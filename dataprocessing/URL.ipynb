{
 "cells": [
  {
   "cell_type": "code",
   "execution_count": 1,
   "id": "b36dffbd",
   "metadata": {},
   "outputs": [],
   "source": [
    "import urllib\n",
    "import pandas as pd"
   ]
  },
  {
   "cell_type": "code",
   "execution_count": 2,
   "id": "51b49106",
   "metadata": {},
   "outputs": [],
   "source": [
    "df = pd.read_csv('offense_players_cleaned.csv')"
   ]
  },
  {
   "cell_type": "code",
   "execution_count": 3,
   "id": "0cfd51e9",
   "metadata": {
    "scrolled": true
   },
   "outputs": [],
   "source": [
    "urls = []\n",
    "for id in df.player_id:\n",
    "    done = False\n",
    "    url = \"\"\n",
    "    for year in range(2022, 2009, -1):\n",
    "        try:\n",
    "            url = \"https://www.pro-football-reference.com/req/20180910/images/headshots/{}_{}_fix.jpg\".format(id, year)\n",
    "            urllib.request.urlopen(url)\n",
    "            done = True\n",
    "        except:\n",
    "            try:\n",
    "                url = \"https://www.pro-football-reference.com/req/20180910/images/headshots/{}_{}.jpg\".format(id, year)\n",
    "                urllib.request.urlopen(url)\n",
    "                done = True\n",
    "            except:\n",
    "                pass\n",
    "        if done:\n",
    "            break\n",
    "    urls.append(url)"
   ]
  },
  {
   "cell_type": "code",
   "execution_count": 4,
   "id": "040022f5",
   "metadata": {},
   "outputs": [],
   "source": [
    "df['url'] = urls\n",
    "df.to_csv(\"offense_players_cleaned.csv\", index=False)"
   ]
  }
 ],
 "metadata": {
  "kernelspec": {
   "display_name": "Python 3.10.7 64-bit",
   "language": "python",
   "name": "python3"
  },
  "language_info": {
   "codemirror_mode": {
    "name": "ipython",
    "version": 3
   },
   "file_extension": ".py",
   "mimetype": "text/x-python",
   "name": "python",
   "nbconvert_exporter": "python",
   "pygments_lexer": "ipython3",
   "version": "3.10.7"
  },
  "vscode": {
   "interpreter": {
    "hash": "aee8b7b246df8f9039afb4144a1f6fd8d2ca17a180786b69acc140d282b71a49"
   }
  }
 },
 "nbformat": 4,
 "nbformat_minor": 5
}
